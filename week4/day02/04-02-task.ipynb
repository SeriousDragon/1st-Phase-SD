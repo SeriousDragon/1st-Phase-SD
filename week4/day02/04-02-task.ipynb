{
 "cells": [
  {
   "cell_type": "markdown",
   "id": "5e12cfa3-5597-4591-9203-793f4de5c703",
   "metadata": {},
   "source": [
    "## Фаза 1. Неделя 1. Вторник\n",
    "### Проверка статистических гипотез"
   ]
  },
  {
   "cell_type": "code",
   "execution_count": 3,
   "id": "86c357bc-5704-44c5-8070-86f272683244",
   "metadata": {},
   "outputs": [],
   "source": [
    "import pandas as pd\n",
    "import numpy as np\n",
    "import seaborn as sns\n",
    "import scipy.stats as st\n",
    "\n",
    "from matplotlib import pyplot as plt"
   ]
  },
  {
   "cell_type": "markdown",
   "id": "df0800f5",
   "metadata": {},
   "source": [
    "## Блок 1. Устройство статистических тестов для проверки гипотез (пайплайн проверки гипотез)"
   ]
  },
  {
   "cell_type": "markdown",
   "id": "a44e5810",
   "metadata": {},
   "source": [
    "1. Исходная выборка/выборки из ГС\n",
    "2. Сформулировать основную и альтернативную гипотезы\n",
    "3. Зафиксировать уровень значимости($\\alpha$) и выбрать статистику\n",
    "4. Вычисляем значение статистики, которое получили по выборке\n",
    "5. Так как выборка это случайность, то __статистика(метрика) вычисленная по ней - тоже случайная величина, ведь зависит от выборки, полученной случайно, а значит имеет распределение__. Нам важно его знать\n",
    "6. Зная распределение статистики, мы можем по полученному нами значению(пункт 4) понять, аномальное значение мы получили в конектсте нашего распределения или же нет.\n",
    "7. Принять решение о справедливости гипотезы на уровне значимости $\\alpha$\n",
    "\n",
    "\n",
    "\n",
    "* [Небольшое видео об этом](https://vk.com/video/playlist/-92204627_81?section=playlist_81&z=video-92204627_456239812%2Fclub92204627%2Fpl_-92204627_81)"
   ]
  },
  {
   "cell_type": "markdown",
   "id": "7d1e2049",
   "metadata": {},
   "source": [
    "#### **Примечание:** 📚 В лекции у нас был пример с проверкой гипотезы о доле, а ниже задачи с гипотезой о среднем. Однако, все на самом деле работает точно так же по пайплайну, описанному выше. 🔄\n",
    "\n"
   ]
  },
  {
   "cell_type": "markdown",
   "id": "2a782aa0-febe-44e5-9906-00b3308f7652",
   "metadata": {},
   "source": [
    "##### 1.1 Проверка гипотезы о среднем\n",
    "\n",
    "* у вас есть веб-сервис для онлайн-курсов, и вы решили внедрить новую ML-модель рекомендаций курсов для увеличения уровня участия студентов. Вы хотите оценить, насколько новая система рекомендаций влияет на время, которое студенты проводят на платформе.\n",
    "\n",
    "* случайным образом выбрано 100 студентов и записано количество часов, которое они провели на платформе через месяц после.\n",
    "\n",
    "* ранее среднее время составляло 29.07 часа. Проверьте, есть ли статистически значимое улучшение на уровне значимости $\\alpha = 0.05$ от ML-модели."
   ]
  },
  {
   "cell_type": "markdown",
   "id": "02faf40e-e5dc-42af-97bb-d8e1d271219b",
   "metadata": {},
   "source": [
    "$H_0: \\mu = 29.07$\n",
    "\n",
    "$H_1: \\mu > 29.07$"
   ]
  },
  {
   "cell_type": "code",
   "execution_count": 4,
   "id": "107345aa",
   "metadata": {},
   "outputs": [],
   "source": [
    "arr = np.array(\n",
    "    [\n",
    "        28.91,\n",
    "        26.45,\n",
    "        30.97,\n",
    "        32.58,\n",
    "        30.23,\n",
    "        27.26,\n",
    "        31.33,\n",
    "        30.4,\n",
    "        28.29,\n",
    "        27.26,\n",
    "        26.08,\n",
    "        33.19,\n",
    "        29.18,\n",
    "        27.32,\n",
    "        31.36,\n",
    "        30.74,\n",
    "        28.86,\n",
    "        27.87,\n",
    "        26.37,\n",
    "        33.56,\n",
    "        29.09,\n",
    "        27.81,\n",
    "        31.07,\n",
    "        30.73,\n",
    "        28.94,\n",
    "        27.02,\n",
    "        26.76,\n",
    "        33.97,\n",
    "        29.73,\n",
    "        27.86,\n",
    "        31.28,\n",
    "        30.01,\n",
    "        28.55,\n",
    "        27.1,\n",
    "        26.46,\n",
    "        33.22,\n",
    "        29.55,\n",
    "        27.41,\n",
    "        31.09,\n",
    "        30.88,\n",
    "        28.01,\n",
    "        27.48,\n",
    "        26.61,\n",
    "        33.19,\n",
    "        29.67,\n",
    "        27.22,\n",
    "        31.02,\n",
    "        30.16,\n",
    "        28.92,\n",
    "        27.79,\n",
    "        26.58,\n",
    "        33.81,\n",
    "        29.42,\n",
    "        27.89,\n",
    "        31.13,\n",
    "        30.15,\n",
    "        28.51,\n",
    "        27.21,\n",
    "        26.53,\n",
    "        33.1,\n",
    "        29.14,\n",
    "        27.27,\n",
    "        31.71,\n",
    "        30.84,\n",
    "        28.05,\n",
    "        27.16,\n",
    "        26.04,\n",
    "        33.7,\n",
    "        29.92,\n",
    "        27.89,\n",
    "        31.87,\n",
    "        30.99,\n",
    "        28.84,\n",
    "        27.5,\n",
    "        26.87,\n",
    "        33.6,\n",
    "        30.0,\n",
    "        27.32,\n",
    "        31.85,\n",
    "        30.67,\n",
    "        28.94,\n",
    "        27.69,\n",
    "        26.65,\n",
    "        33.29,\n",
    "        29.34,\n",
    "        27.71,\n",
    "        31.62,\n",
    "        30.48,\n",
    "        28.18,\n",
    "        27.77,\n",
    "        26.61,\n",
    "        33.19,\n",
    "        29.7,\n",
    "        27.47,\n",
    "        31.05,\n",
    "        30.14,\n",
    "        28.4,\n",
    "        27.52,\n",
    "        26.19,\n",
    "        34.04,\n",
    "    ]\n",
    ")"
   ]
  },
  {
   "cell_type": "markdown",
   "id": "f1554300-09d7-4d3b-b49d-238d56dceb1e",
   "metadata": {},
   "source": [
    "* Ну что ж, нам нужна __статистика__, которая агрегирует всю информацию о выборке.\n",
    "\n",
    "* если выбрать статистику $T(X) = \\dfrac{1}{n} \\sum_{i=1}^{n}x_i = \\overline{X}$, то мы имеем дело со знакомым уже нам выборчным средним. Можно как минимум воспользоваться [Центральной Предельной Теоремой](https://nesrakonk.ru/central_limit_theorem-2/), при ней мы знаем, что $\\overline{X} \\sim N(\\mu, \\dfrac{\\sigma^2}{n})$"
   ]
  },
  {
   "cell_type": "markdown",
   "id": "1cec1da2-caf8-4b7e-bea2-643f57dc0129",
   "metadata": {},
   "source": [
    "В Нашем случае мы предполагам что $\\mu = 29.07$, но мы не знаем дисперсию $\\sigma^2$ у ГС. Поэтому приблизим выборчной дисперсией $s^2 = \\dfrac{1}{n-1} \\sum_{i=1}^n (x_i - \\overline{X}) ^ 2$."
   ]
  },
  {
   "cell_type": "markdown",
   "id": "c9ee5999-ae02-4ec3-8069-61b90f8ef421",
   "metadata": {},
   "source": [
    "* 1.1.1 Посчитайте значение статистики, полученной по нашей выборке"
   ]
  },
  {
   "cell_type": "code",
   "execution_count": 5,
   "id": "44d64c48-61c6-4ff5-b696-a3aba32e972c",
   "metadata": {},
   "outputs": [
    {
     "name": "stdout",
     "output_type": "stream",
     "text": [
      "1.407181677990245\n"
     ]
    }
   ],
   "source": [
    "mu0 = 29.07\n",
    "n = arr.size\n",
    "df = n - 1\n",
    "xbar = arr.mean()\n",
    "s = arr.std(ddof=1)\n",
    "se = s / np.sqrt(n)\n",
    "t_stat = (xbar - mu0) / se\n",
    "print(t_stat)"
   ]
  },
  {
   "cell_type": "markdown",
   "id": "dc972605-cd71-4a84-9d6b-7cc663e24c7b",
   "metadata": {},
   "source": [
    "* 1.1.2 С помощью [scipy](https://docs.scipy.org/doc/scipy/reference/generated/scipy.stats.norm.html) создайте экземпляр класса распределения вашей статистики, с ее параметрами. "
   ]
  },
  {
   "cell_type": "code",
   "execution_count": 6,
   "id": "97e61c49-8705-426c-81b0-95f9b9ed6d61",
   "metadata": {},
   "outputs": [],
   "source": [
    "distr = st.t(df=df, loc=0, scale=1)"
   ]
  },
  {
   "cell_type": "markdown",
   "id": "965d23e7-9761-48c5-8267-cfa01f18d729",
   "metadata": {},
   "source": [
    "* 1.1.3 Посчитайте критическое значение для вашей статистики"
   ]
  },
  {
   "cell_type": "code",
   "execution_count": 7,
   "id": "411dbe9b-a8aa-4a03-a5c5-033cffa3274e",
   "metadata": {},
   "outputs": [
    {
     "name": "stdout",
     "output_type": "stream",
     "text": [
      "1.6603911559963895\n"
     ]
    }
   ],
   "source": [
    "a = 0.05\n",
    "t_crit = distr.ppf(1 - a)\n",
    "print(t_crit)"
   ]
  },
  {
   "cell_type": "markdown",
   "id": "2f41ad93-143e-4d3a-a977-19980c0b5b5d",
   "metadata": {},
   "source": [
    "* 1.1.4 Нарисуйте график распределения вашей статистики, отобразите на нем следующее:\n",
    "    1. Пунктирной линией t_stat\n",
    "    2. Пунктирной линией t_crit"
   ]
  },
  {
   "cell_type": "code",
   "execution_count": 8,
   "id": "bbe49a6d-2e60-4367-b92b-0002611f9926",
   "metadata": {},
   "outputs": [
    {
     "data": {
      "image/png": "[encoded data removed]",
      "text/plain": [
       "<Figure size 800x500 with 1 Axes>"
      ]
     },
     "metadata": {},
     "output_type": "display_data"
    }
   ],
   "source": [
    "x = np.linspace(-4, 4)\n",
    "y = distr.pdf(x)\n",
    "\n",
    "plt.figure(figsize=(8, 5))\n",
    "plt.plot(x, y, label=f\"t-распределение, df={df}\")\n",
    "\n",
    "plt.axvline(t_stat, color=\"blue\", linestyle=\"--\", label=f\"t_stat = {t_stat:.2f}\")\n",
    "plt.axvline(t_crit, color=\"red\", linestyle=\"--\", label=f\"t_crit = {t_crit:.2f}\")\n",
    "\n",
    "plt.title(\"t-распределение с df=99\")\n",
    "plt.xlabel(\"t\")\n",
    "plt.ylabel(\"Плотность (PDF)\")\n",
    "plt.legend()\n",
    "plt.show()"
   ]
  },
  {
   "cell_type": "markdown",
   "id": "d965c2b4-a5f8-4f3d-9c5b-8623b7a564a1",
   "metadata": {},
   "source": [
    "* 1.1.5 Посчитайте p-value"
   ]
  },
  {
   "cell_type": "code",
   "execution_count": 9,
   "id": "ff5ca9ae-e7c0-4fd5-8dce-5ac14c3cfea1",
   "metadata": {},
   "outputs": [
    {
     "name": "stdout",
     "output_type": "stream",
     "text": [
      "0.08125267165647299\n"
     ]
    }
   ],
   "source": [
    "p_value = 1 - st.t.cdf(t_stat, df=df)\n",
    "print(p_value)"
   ]
  },
  {
   "cell_type": "markdown",
   "id": "24ee3e8d-1010-4cee-92b8-87a5dc13c91a",
   "metadata": {},
   "source": [
    "* 1.1.6 На основании значения статистики и p-value, примите решение о справедливости гипотезы"
   ]
  },
  {
   "cell_type": "markdown",
   "id": "c6799f4d-b247-46f2-8027-b970ad7b91e0",
   "metadata": {},
   "source": [
    "> ваш ответ\n",
    "\n",
    "Сатистически значимого роста среднего времени не выявлено, т.к p-value > альфа (а так же потому, что наша статистика меньше критического значения). Мы не отвергаем нулевую гипотезу. "
   ]
  },
  {
   "cell_type": "markdown",
   "id": "a3e3d66f-b1b8-4765-8784-633ac6bff8f2",
   "metadata": {},
   "source": [
    "##### 1.2 В ресторане появилось новое экспериментальное блюдо, которое в планах должно заменить одно из старых блюд. Необходимо количественно оценить, лучше ли оно старого блюда, или нет. Для этого был проведен эксперимент, в рамках которого людям давали попробовать и просили оценить блюда по шкале от 1 до 10. Получились две выборки:"
   ]
  },
  {
   "cell_type": "code",
   "execution_count": 10,
   "id": "147d296b-5dee-457d-8879-192744ae9912",
   "metadata": {},
   "outputs": [],
   "source": [
    "old = np.array(\n",
    "    [\n",
    "        6,\n",
    "        8,\n",
    "        4,\n",
    "        7,\n",
    "        8,\n",
    "        7,\n",
    "        5,\n",
    "        9,\n",
    "        7,\n",
    "        6,\n",
    "        9,\n",
    "        8,\n",
    "        6,\n",
    "        9,\n",
    "        5,\n",
    "        7,\n",
    "        10,\n",
    "        8,\n",
    "        6,\n",
    "        7,\n",
    "        8,\n",
    "        10,\n",
    "        8,\n",
    "        7,\n",
    "        9,\n",
    "        6,\n",
    "        7,\n",
    "        8,\n",
    "        5,\n",
    "        9,\n",
    "        9,\n",
    "        8,\n",
    "        8,\n",
    "        6,\n",
    "        6,\n",
    "        7,\n",
    "        9,\n",
    "        7,\n",
    "        7,\n",
    "        7,\n",
    "        7,\n",
    "        8,\n",
    "        8,\n",
    "        7,\n",
    "        8,\n",
    "        6,\n",
    "        8,\n",
    "        8,\n",
    "        8,\n",
    "        8,\n",
    "    ]\n",
    ")\n",
    "new = np.array(\n",
    "    [\n",
    "        9,\n",
    "        8,\n",
    "        5,\n",
    "        9,\n",
    "        10,\n",
    "        9,\n",
    "        6,\n",
    "        8,\n",
    "        8,\n",
    "        8,\n",
    "        9,\n",
    "        7,\n",
    "        7,\n",
    "        8,\n",
    "        6,\n",
    "        9,\n",
    "        7,\n",
    "        9,\n",
    "        8,\n",
    "        8,\n",
    "        7,\n",
    "        7,\n",
    "        8,\n",
    "        5,\n",
    "        9,\n",
    "        8,\n",
    "        7,\n",
    "        7,\n",
    "        7,\n",
    "        9,\n",
    "        8,\n",
    "        8,\n",
    "        7,\n",
    "        7,\n",
    "        9,\n",
    "        8,\n",
    "        9,\n",
    "        6,\n",
    "        5,\n",
    "        9,\n",
    "        8,\n",
    "        9,\n",
    "        6,\n",
    "        9,\n",
    "        9,\n",
    "        8,\n",
    "        10,\n",
    "        8,\n",
    "        10,\n",
    "        10,\n",
    "    ]\n",
    ")"
   ]
  },
  {
   "cell_type": "markdown",
   "id": "84a11c2b",
   "metadata": {},
   "source": [
    "* Можно взглянуть на распределение оценок блюд"
   ]
  },
  {
   "cell_type": "code",
   "execution_count": 11,
   "id": "6f5c2760-5aaf-4634-a7d1-37bc30e11b27",
   "metadata": {},
   "outputs": [
    {
     "data": {
      "image/png": "[encoded data removed]",
      "text/plain": [
       "<Figure size 1500x700 with 2 Axes>"
      ]
     },
     "metadata": {},
     "output_type": "display_data"
    }
   ],
   "source": [
    "fig, axes = plt.subplots(1, 2, figsize=(15, 7))\n",
    "\n",
    "sns.histplot(new, ax=axes[0], bins=np.arange(4.5, 11.5, 1))\n",
    "sns.histplot(old, ax=axes[1], bins=np.arange(3.5, 11.5, 1))\n",
    "\n",
    "axes[0].set_title(\"Распределение оценок новых блюд\")\n",
    "axes[1].set_title(\"Распределение оценок старых блюд\")\n",
    "\n",
    "plt.show()"
   ]
  },
  {
   "cell_type": "markdown",
   "id": "2f65ca33-b311-4887-a937-7bc61c07526a",
   "metadata": {},
   "source": [
    "$H_0 : \\mu_{new} = \\mu_{old}$\n",
    "\n",
    "$H_1 : \\mu_{new} \\neq \\mu_{old}$  или $H_1 : \\mu_{new} > \\mu_{old}$ или $H_1 : \\mu_{new} < \\mu_{old}$\n",
    "\n",
    "$\\mu$ - это среднее по группе.  \n",
    "\n",
    "* Иначе говоря, мы пытаемся ответить на вопрос, является ли новое блюдо лучше в среднем по Генеральной Совокупности посетителей нашего ресторана"
   ]
  },
  {
   "cell_type": "markdown",
   "id": "f3840423-035a-4d84-956d-a9986243fda3",
   "metadata": {},
   "source": [
    "Такие задачи называются __проверкой гипотезы__ о среднем и встречаются чаще всего"
   ]
  },
  {
   "cell_type": "markdown",
   "id": "409b1376-c36e-42fa-b45d-76e60578a0f6",
   "metadata": {},
   "source": [
    "Реализуйте следующую статистику, которая имеет название t-статистика: \n",
    "    \n",
    "    \n",
    "$T(X) = \\dfrac{\\overline{X}_{new} - \\overline{X}_{old}}{\\sqrt{{\\dfrac{s^2_{new}}{n_{new}}} + \\dfrac{s^2_{old}}{n_{old}}}}$  \n",
    "\n",
    "где $\\overline{X}$ - выборочные средние, $s^2$ - выборочные дисперсии, n - количество элементов в выборке.  \n",
    "\n",
    "\n",
    "Такая статистика имеет [t-распределение](https://en.wikipedia.org/wiki/Student%27s_t-distribution) или иногда называют распределением Стьюдента. По форме оно очень похоже на нормальное и если быть предельно точным, то на больших выборках t-распределение стремится к нормальному. \n",
    "\n",
    "$T(X) \\sim t(n_{new} + n_{old} - 2)$"
   ]
  },
  {
   "cell_type": "markdown",
   "id": "7e549914-d379-4fd3-b846-cf22372008b6",
   "metadata": {},
   "source": [
    "Обернуть все в функцию, позволяющую вычислять двухвыборочный t-тест. \n",
    "Функция должна принимать следующие аргументы: \n",
    "* `sample_1`, `sample_2` - два списка выборочными данными\n",
    "* `alternative` принимает одно из трех значений: `twosided`, `left`, `right`. Аргумент позволяет контролировать вид проверяемой альтернативы.\n",
    "* `alpha` - уровень значимости\n",
    "\n",
    "Функция должна распечатывать результат проверки аналогично примеру выше, а также возвращать значение статистики и `p_value`. "
   ]
  },
  {
   "cell_type": "code",
   "execution_count": 12,
   "id": "c02e64b6-f502-4534-8150-ad4c3bf7f289",
   "metadata": {},
   "outputs": [
    {
     "name": "stdout",
     "output_type": "stream",
     "text": [
      "t-статистика = 1.9960, df = 98\n",
      "p-value = 0.0487, alpha = 0.05\n",
      "Решение: ОТВЕРГАЕМ H0 (тест = 'twosided')\n"
     ]
    }
   ],
   "source": [
    "def ttest(sample_1, sample_2, alternative=\"twosided\", alpha=0.05):\n",
    "\n",
    "    n1, n2 = len(sample_1), len(sample_2)\n",
    "    x1, x2 = np.mean(sample_1), np.mean(sample_2)\n",
    "    s1, s2 = np.var(sample_1, ddof=1), np.var(sample_2, ddof=1)\n",
    "    df = n1 + n2 - 2\n",
    "    sp2 = ((n1 - 1) * s1 + (n2 - 1) * s2) / df\n",
    "    se = np.sqrt(sp2 * (1 / n1 + 1 / n2))\n",
    "\n",
    "    t_stat = (x1 - x2) / se\n",
    "\n",
    "    if alternative == \"twosided\":\n",
    "        p_value = 2 * (1 - st.t.cdf(abs(t_stat), df=df))\n",
    "    elif alternative == \"right\":\n",
    "        p_value = 1 - st.t.cdf(t_stat, df=df)\n",
    "    elif alternative == \"left\":\n",
    "        p_value = st.t.cdf(t_stat, df=df)\n",
    "    else:\n",
    "        raise ValueError(\"alternative must be 'twosided', 'left', or 'right'\")\n",
    "\n",
    "    decision = \"ОТВЕРГАЕМ H0\" if p_value < alpha else \"НЕ отвергаем H0\"\n",
    "\n",
    "    print(f\"t-статистика = {t_stat:.4f}, df = {df}\")\n",
    "    print(f\"p-value = {p_value:.4f}, alpha = {alpha}\")\n",
    "    print(f\"Решение: {decision} (тест = '{alternative}')\")\n",
    "\n",
    "    return t_stat, p_value\n",
    "\n",
    "\n",
    "t_stat, p_val = ttest(new, old, alternative=\"twosided\", alpha=0.05)"
   ]
  },
  {
   "cell_type": "markdown",
   "id": "fd518ef5",
   "metadata": {},
   "source": [
    "##### 1.3 Возьмите готовый `ttest_ind` для задачи выше и сравните результаты c вашим самописным\n",
    "\n",
    "* небольшая разница  в результатах допустима"
   ]
  },
  {
   "cell_type": "code",
   "execution_count": 13,
   "id": "7422686f",
   "metadata": {},
   "outputs": [
    {
     "data": {
      "text/plain": [
       "TtestResult(statistic=np.float64(1.9960268449458625), pvalue=np.float64(0.048705923916779276), df=np.float64(98.0))"
      ]
     },
     "execution_count": 13,
     "metadata": {},
     "output_type": "execute_result"
    }
   ],
   "source": [
    "st.ttest_ind(new, old, alternative=\"two-sided\")"
   ]
  },
  {
   "cell_type": "markdown",
   "id": "d3ceade6-16a0-42f4-b872-b9f2b6a480b3",
   "metadata": {},
   "source": [
    "<img src=\"https://icons.iconarchive.com/icons/icons8/windows-8/256/Programming-Github-icon.png\" width=32 /> Пора сохранить изменения для __github__. \n",
    "\n",
    "1. Перейди в командной строке в папку, в которой расположен этот нотбук. \n",
    "2. Выполни команду `git add 04-03-task.ipynb`\n",
    "3. Выполни команду `git commit -m \"hypothesis tasks in progress\"`\n",
    "4. Выполни команду `git push`"
   ]
  },
  {
   "cell_type": "markdown",
   "id": "640304f3",
   "metadata": {},
   "source": [
    "## Блок 2. Применение готовых статистических тестов для проверки гипотез"
   ]
  },
  {
   "cell_type": "markdown",
   "id": "00b76d97",
   "metadata": {},
   "source": [
    "*  📊 Вы не первые, кто проверяет гипотезы! 📊\n",
    "*  Поэтому существуют готовые реализации статистических тестов. \n",
    "*  Давайте рассмотрим самые основные из них. 👇"
   ]
  },
  {
   "cell_type": "markdown",
   "id": "b60c1a13",
   "metadata": {},
   "source": [
    "### 2.1. Гипотеза о доле\n",
    "\n",
    "\n",
    "Напишите функцию(или возьмите сразу готовую), которая принимает на вход количество элементов выборки а так же долю \"успехов\" и отвеьте на вопрос:\n",
    "\n",
    "*  можно ли считать монетку честной, если после 100 подбрасываний, выпало 57 орлов (доля выпадения 0.57)\n",
    "*  Стала ли статистически значимо эффективнее реклама, если ранее конверсия была 0.2, а сейчас на выборке из 200 элементов конверсия вышла 0.3\n",
    "\n",
    "`Подсказка`: Можно использовать _z_test_ или _binom_test_"
   ]
  },
  {
   "cell_type": "code",
   "execution_count": 14,
   "id": "b91ec413",
   "metadata": {},
   "outputs": [
    {
     "name": "stdout",
     "output_type": "stream",
     "text": [
      "Монета честная, не отвергаем нулевую гипотезу\n",
      "0.1933479044956428\n"
     ]
    }
   ],
   "source": [
    "n = 100\n",
    "heads = 57\n",
    "p0 = 0.5\n",
    "a = 0.05\n",
    "\n",
    "p_value = st.binomtest(heads, n, p=p0, alternative=\"two-sided\").pvalue\n",
    "if p_value < a:\n",
    "    print(\"Монета нечестная, отвергаем нулевую гипотезу\")\n",
    "else:\n",
    "    print(\"Монета честная, не отвергаем нулевую гипотезу\")\n",
    "print(p_value)"
   ]
  },
  {
   "cell_type": "code",
   "execution_count": null,
   "id": "2ac148ee",
   "metadata": {},
   "outputs": [
    {
     "name": "stdout",
     "output_type": "stream",
     "text": [
      "Отвергаем нулевую гипотезу, реклама стала эффективнее\n"
     ]
    }
   ],
   "source": [
    "n = 200\n",
    "success = int(n * 0.3)\n",
    "p0 = 0.2\n",
    "a = 0.05\n",
    "\n",
    "p_value = st.binomtest(success, n, p=p0, alternative=\"greater\").pvalue\n",
    "\n",
    "if p_value < a:\n",
    "    print(\"Отвергаем нулевую гипотезу, реклама стала эффективнее\")\n",
    "else:\n",
    "    print(\"Не отвергаем нулевую гипотезу, нет оснований считать рекламу эффективнее\")\n",
    "    "
   ]
  },
  {
   "cell_type": "markdown",
   "id": "f7207062",
   "metadata": {},
   "source": [
    "### 2.2 Доверительный интервал\n",
    "\n",
    "Реализовать функцию, позволяющую строить доверительный интервал для среднего. На вход функции поступает выборка (n > 20), уровень значимости. \n",
    "\n",
    "Воспользуйтесь методом `scipy.stats.t.interval` или же напишите его вручную по формуле из лекции"
   ]
  },
  {
   "cell_type": "code",
   "execution_count": 16,
   "id": "960b2689",
   "metadata": {},
   "outputs": [
    {
     "name": "stdout",
     "output_type": "stream",
     "text": [
      "x=3.85, s=1.631, SE=0.365, df=19\n",
      "95% ДИ для среднего: [3.087, 4.613]\n",
      "Кубик честный\n"
     ]
    }
   ],
   "source": [
    "import numpy as np\n",
    "import scipy.stats as st\n",
    "\n",
    "x = np.array([6, 1, 2, 4, 6, 5, 5, 6, 3, 3, 6, 3, 4, 2, 2, 2, 4, 4, 3, 6], dtype=float)\n",
    "n = 20\n",
    "xbar = x.mean()\n",
    "s = x.std(ddof=1)\n",
    "se = s / np.sqrt(n)\n",
    "df = n - 1\n",
    "\n",
    "ci_low, ci_high = st.t.interval(confidence=0.95, df=df, loc=xbar, scale=se)\n",
    "\n",
    "print(f\"x={xbar:.2f}, s={s:.3f}, SE={se:.3f}, df={df}\")\n",
    "print(f\"95% ДИ для среднего: [{ci_low:.3f}, {ci_high:.3f}]\")\n",
    "print(\"Кубик честный\" if (ci_low <= 3.5 <= ci_high) else \"Кубик нечестный\")"
   ]
  },
  {
   "cell_type": "code",
   "execution_count": null,
   "id": "f982943c",
   "metadata": {},
   "outputs": [],
   "source": []
  },
  {
   "cell_type": "markdown",
   "id": "f71771c3",
   "metadata": {},
   "source": [
    "* Постройте 95%-доверительный интервал для среднего кубика, у которого вот такой результат\n",
    "\n",
    "    - [6, 1, 2, 4, 6, 5, 5, 6, 3, 3, 6, 3, 4, 2, 2, 2, 4, 4, 3, 6]\n",
    "    - честный ли он? (у честного кубика мат.ожидание = 3.5)"
   ]
  },
  {
   "cell_type": "markdown",
   "id": "435344f5",
   "metadata": {},
   "source": [
    "### 2.3 Bootstrap"
   ]
  },
  {
   "cell_type": "markdown",
   "id": "aaf50854",
   "metadata": {},
   "source": [
    "* Есть сервис по доставке еды, который заявляет, что среднее время их доставки составляет 20 минут\n",
    "\n",
    "* Мы подняли все наши заказы у данного сервиса"
   ]
  },
  {
   "cell_type": "code",
   "execution_count": 17,
   "id": "d0c626c3",
   "metadata": {},
   "outputs": [],
   "source": [
    "sample = np.array(\n",
    "    [\n",
    "        10,\n",
    "        13,\n",
    "        18,\n",
    "        8,\n",
    "        14,\n",
    "        15,\n",
    "        14,\n",
    "        15,\n",
    "        10,\n",
    "        14,\n",
    "        21,\n",
    "        20,\n",
    "        18,\n",
    "        13,\n",
    "        10,\n",
    "        13,\n",
    "        11,\n",
    "        10,\n",
    "        21,\n",
    "        16,\n",
    "        18,\n",
    "        21,\n",
    "        22,\n",
    "        20,\n",
    "        25,\n",
    "        14,\n",
    "        12,\n",
    "        14,\n",
    "        11,\n",
    "        16,\n",
    "        30,\n",
    "        29,\n",
    "        30,\n",
    "        31,\n",
    "        28,\n",
    "        28,\n",
    "        24,\n",
    "        48,\n",
    "        35,\n",
    "        50,\n",
    "        33,\n",
    "        18,\n",
    "        31,\n",
    "        22,\n",
    "        33,\n",
    "        27,\n",
    "        28,\n",
    "        44,\n",
    "        22,\n",
    "        23,\n",
    "        28,\n",
    "        23,\n",
    "        22,\n",
    "        30,\n",
    "        27,\n",
    "        30,\n",
    "        30,\n",
    "        41,\n",
    "        26,\n",
    "        29,\n",
    "        35,\n",
    "        28,\n",
    "        27,\n",
    "        22,\n",
    "        25,\n",
    "        33,\n",
    "        28,\n",
    "        7,\n",
    "        19,\n",
    "        15,\n",
    "        20,\n",
    "        36,\n",
    "        22,\n",
    "        17,\n",
    "        17,\n",
    "        29,\n",
    "        14,\n",
    "        31,\n",
    "        11,\n",
    "        16,\n",
    "        24,\n",
    "        13,\n",
    "        15,\n",
    "        21,\n",
    "        30,\n",
    "        26,\n",
    "        19,\n",
    "        21,\n",
    "        13,\n",
    "        16,\n",
    "        29,\n",
    "        37,\n",
    "        26,\n",
    "        15,\n",
    "        21,\n",
    "        24,\n",
    "        12,\n",
    "        27,\n",
    "        18,\n",
    "        32,\n",
    "        33,\n",
    "        47,\n",
    "        23,\n",
    "        33,\n",
    "        17,\n",
    "        19,\n",
    "        25,\n",
    "        15,\n",
    "        14,\n",
    "        20,\n",
    "        23,\n",
    "        13,\n",
    "        44,\n",
    "        33,\n",
    "        48,\n",
    "        34,\n",
    "        34,\n",
    "        28,\n",
    "        27,\n",
    "        21,\n",
    "        26,\n",
    "        44,\n",
    "        41,\n",
    "    ]\n",
    ")"
   ]
  },
  {
   "cell_type": "markdown",
   "id": "88ca94a1",
   "metadata": {},
   "source": [
    "\n",
    "* Постройте 95%-доверительный интервал для среднего времени доставки"
   ]
  },
  {
   "cell_type": "code",
   "execution_count": 22,
   "id": "2fb41dc2",
   "metadata": {},
   "outputs": [
    {
     "name": "stdout",
     "output_type": "stream",
     "text": [
      "95% ДИ для среднего:  [22.06, 25.39]\n",
      "95% ДИ для медианы:   [20.00, 24.00]\n",
      "95% ДИ для дисперсии: [70.39, 116.65]\n",
      "Заявление μ=20: не совместимо (отвергаем H0)\n"
     ]
    }
   ],
   "source": [
    "res_mean = st.bootstrap(\n",
    "    (sample,),\n",
    "    np.mean,\n",
    "    vectorized=False,\n",
    "    paired=False,\n",
    "    confidence_level=0.95,\n",
    "    n_resamples=100_000,\n",
    ")\n",
    "\n",
    "\n",
    "res_med = st.bootstrap(\n",
    "    (sample,),\n",
    "    np.median,\n",
    "    vectorized=False,\n",
    "    paired=False,\n",
    "    confidence_level=0.95,\n",
    "    n_resamples=100_000,\n",
    ")\n",
    "\n",
    "\n",
    "res_var = st.bootstrap(\n",
    "    (sample,),\n",
    "    lambda x: np.var(x, ddof=1),\n",
    "    vectorized=False,\n",
    "    paired=False,\n",
    "    confidence_level=0.95,\n",
    "    n_resamples=100_000,\n",
    ")\n",
    "\n",
    "print(\n",
    "    f\"95% ДИ для среднего:  [{res_mean.confidence_interval.low:.2f}, {res_mean.confidence_interval.high:.2f}]\"\n",
    ")\n",
    "print(\n",
    "    f\"95% ДИ для медианы:   [{res_med.confidence_interval.low:.2f}, {res_med.confidence_interval.high:.2f}]\"\n",
    ")\n",
    "print(\n",
    "    f\"95% ДИ для дисперсии: [{res_var.confidence_interval.low:.2f}, {res_var.confidence_interval.high:.2f}]\"\n",
    ")\n",
    "\n",
    "\n",
    "mu0 = 20\n",
    "low, high = res_mean.confidence_interval.low, res_mean.confidence_interval.high\n",
    "print(\n",
    "    \"Заявление μ=20:\",\n",
    "    (\n",
    "        \"совместимо (не отвергаем H0)\"\n",
    "        if (low <= mu0 <= high)\n",
    "        else \"не совместимо (отвергаем H0)\"\n",
    "    ),\n",
    ")"
   ]
  },
  {
   "cell_type": "markdown",
   "id": "021d5737",
   "metadata": {},
   "source": [
    "Также можно посчитать дополнительно:\n",
    "\n",
    "* Постройте 95%-доверительный интервал для медианы времени доставки\n",
    "* Постройте 95%-доверительный интервал для дисперсии времени доставки"
   ]
  },
  {
   "cell_type": "markdown",
   "id": "0fc4e86b",
   "metadata": {},
   "source": [
    "<img src=\"https://icons.iconarchive.com/icons/icons8/windows-8/256/Programming-Github-icon.png\" width=32 /> Пора сохранить изменения для __github__. \n",
    "\n",
    "1. Перейди в командной строке в папку, в которой расположен этот нотбук. \n",
    "2. Выполни команду `git add 04-02-task.ipynb`\n",
    "3. Выполни команду `git commit -m \"hypothesis tasks done\"`\n",
    "4. Выполни команду `git push`"
   ]
  },
  {
   "cell_type": "markdown",
   "id": "fa72d4e3",
   "metadata": {},
   "source": [
    "## Блок 3. Дополнительные задания. \"Набить руку\" (не является обязательным)"
   ]
  },
  {
   "cell_type": "markdown",
   "id": "a3ec8d99",
   "metadata": {},
   "source": [
    "### 3.1 Оценка эффективности рекламы\n",
    " "
   ]
  },
  {
   "cell_type": "markdown",
   "id": "2b7ba151",
   "metadata": {},
   "source": [
    "* Вы провели эксперимент, в рамках которого 1000 человек увидели рекламу нового продукта, а 1000 человек не увидели. \n",
    "* После проведения эксперимента вы получили следующие результаты: \n",
    "    - 100 человек из тех, кто увидел рекламу, купили продукт\n",
    "    - 50 человек из тех, кто не увидел рекламу, купили продукт\n",
    " * Проверьте гипотезу о том, что реклама не влияет на покупку продукта на уровне значимости $\\alpha = 0.05$. В ответ запишите достигаемый уровень значимости с точностью до четвертого знака."
   ]
  },
  {
   "cell_type": "code",
   "execution_count": 19,
   "id": "fed8b5c3",
   "metadata": {},
   "outputs": [],
   "source": [
    "# your code"
   ]
  },
  {
   "cell_type": "markdown",
   "id": "385f0368",
   "metadata": {},
   "source": [
    "### 3.2 Студенты "
   ]
  },
  {
   "cell_type": "markdown",
   "id": "d9b808fe",
   "metadata": {},
   "source": [
    "* Допустим, вы думаете, что $25\\%$ студентов вашего университета ни разу не пропустили ни одной лекции. В выборочном опросе из $75$ случайных студентов таких оказалось $15$ человек. Проверьте свою гипотезу на уровне значимости $\\alpha = 0.02$ против двусторонних альтернатив. В ответ запишите достигаемый уровень значимости с точностью до четвертого знака."
   ]
  },
  {
   "cell_type": "code",
   "execution_count": 20,
   "id": "f4c1691d",
   "metadata": {},
   "outputs": [],
   "source": [
    "# your code"
   ]
  },
  {
   "cell_type": "markdown",
   "id": "fee001d4",
   "metadata": {},
   "source": [
    "### 3.3 Медицинский кейс"
   ]
  },
  {
   "cell_type": "markdown",
   "id": "07f79a7b",
   "metadata": {},
   "source": [
    "* Пусть для группы из $n = 25$ пациентов вычислено среднее артериальное давление $\\bar{x} = 100$ мм рт. ст. Из предыдущих исследований известно стандартное отклонение $\\sigma = 12$ мм рт. ст. Постройте $98\\%$ доверительный интервал для среднего артериального давления."
   ]
  },
  {
   "cell_type": "code",
   "execution_count": 21,
   "id": "ec0bd10a",
   "metadata": {},
   "outputs": [],
   "source": [
    "# your code"
   ]
  },
  {
   "cell_type": "markdown",
   "id": "a3703ddc",
   "metadata": {},
   "source": [
    "### 3.4 Свой StatTester"
   ]
  },
  {
   "cell_type": "markdown",
   "id": "bf77214c",
   "metadata": {},
   "source": [
    "Реализуй класс, позволяющий проводить проверку гипотезу о средних для двух выборок. \n",
    "1. В конструктор класса передаются две выборки\n",
    "2. Пользователь выбирает тип задачи (Гипотеза о доле или среднем). Исходя из выборка выбираем либо `z-статистику`, либо `t-статистику`\n",
    "3. В методе `test` проводится тестирование, метод возвращает значение статистики, p_value и результат проверки\n",
    "4. Выбирается альтернатива: двухсторонняя, правая или левая\n",
    "5. Уровень значимости по умолчанию равен $0.05$ (может быть переназначен пользователем)\n",
    "6. Добавь метод, позволяющий вычислять доверительные интервалы для средних для обеих выборок"
   ]
  },
  {
   "cell_type": "markdown",
   "id": "f0729ffb",
   "metadata": {},
   "source": [
    "<img src=\"https://icons.iconarchive.com/icons/icons8/windows-8/256/Programming-Github-icon.png\" width=32 /> Пора сохранить изменения для __github__. \n",
    "\n",
    "1. Перейди в командной строке в папку, в которой расположен этот нотбук. \n",
    "2. Выполни команду `git add 04-03-task.ipynb`\n",
    "3. Выполни команду `git commit -m \"total tasks done\"`\n",
    "4. Выполни команду `git push`"
   ]
  }
 ],
 "metadata": {
  "kernelspec": {
   "display_name": "eda_env",
   "language": "python",
   "name": "python3"
  },
  "language_info": {
   "codemirror_mode": {
    "name": "ipython",
    "version": 3
   },
   "file_extension": ".py",
   "mimetype": "text/x-python",
   "name": "python",
   "nbconvert_exporter": "python",
   "pygments_lexer": "ipython3",
   "version": "3.13.5"
  }
 },
 "nbformat": 4,
 "nbformat_minor": 5
}
