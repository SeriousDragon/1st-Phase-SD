{
 "cells": [
  {
   "cell_type": "markdown",
   "id": "b05a23c0",
   "metadata": {},
   "source": [
    "# 📌 Шпаргалка: основные правила дифференцирования\n",
    "\n",
    "## 1) Базовые функции\n",
    "- Константа: $(c)' = 0$\n",
    "- Тождественная: $(x)' = 1$\n",
    "- Степенная: $(x^n)' = n\\,x^{\\,n-1}$ (для любого вещественного $n$)\n",
    "- Корень: $(\\sqrt{x})' = \\dfrac{1}{2\\sqrt{x}}$\n",
    "- Обратная: $\\left(\\dfrac{1}{x}\\right)' = -\\dfrac{1}{x^2}$\n",
    "\n",
    "## 2) Тригонометрия\n",
    "- $(\\sin x)' = \\cos x$\n",
    "- $(\\cos x)' = -\\sin x$\n",
    "- $(\\tan x)' = \\dfrac{1}{\\cos^2 x} = 1+\\tan^2 x$\n",
    "- $(\\cot x)' = -\\dfrac{1}{\\sin^2 x}$\n",
    "\n",
    "## 3) Экспонента и логарифмы\n",
    "- $(e^x)' = e^x$\n",
    "- $(a^x)' = a^x \\ln a \\quad (a>0,\\, a\\neq 1)$\n",
    "- $(\\ln x)' = \\dfrac{1}{x} \\quad (x>0)$\n",
    "- $(\\log_a x)' = \\dfrac{1}{x\\ln a} \\quad (a>0,\\, a\\neq 1)$\n",
    "\n",
    "## 4) Комбинации (правила)\n",
    "- Линейность: $(c\\,f(x))' = c\\,f'(x)$, \\quad $(f(x)\\pm g(x))' = f'(x)\\pm g'(x)$\n",
    "- Произведение: $(f(x)g(x))' = f'(x)g(x) + f(x)g'(x)$\n",
    "- Частное: $\\left(\\dfrac{f(x)}{g(x)}\\right)' = \\dfrac{f'(x)g(x) - f(x)g'(x)}{[g(x)]^2}$\n",
    "- Цепочка: $(f(g(x)))' = f'(g(x))\\cdot g'(x)$\n",
    "\n",
    "## 5) Частые композиции (полезные шаблоны)\n",
    "- $(\\sin(ax+b))' = a\\,\\cos(ax+b)$\n",
    "- $(\\cos(ax+b))' = -a\\,\\sin(ax+b)$\n",
    "- $(e^{ax+b})' = a\\,e^{ax+b}$\n",
    "- $(\\ln(ax+b))' = \\dfrac{a}{ax+b}$\n",
    "- $(x^n)' = n\\,x^{\\,n-1}$ \\; (например, $(x^{1/2})'=\\dfrac{1}{2\\sqrt{x}}$)\n",
    "- $(\\sqrt{ax+b})' = \\dfrac{a}{2\\sqrt{ax+b}}$\n",
    "\n",
    "## 6) Мини‑примеры применения\n",
    "- $y=8\\sqrt{x}+7\\sin x \\;\\Rightarrow\\; y'=\\dfrac{4}{\\sqrt{x}}+7\\cos x$\n",
    "- $y=\\dfrac{\\sin x}{5x} \\;\\Rightarrow\\; y'=\\dfrac{x\\cos x-\\sin x}{5x^2}$\n"
   ]
  }
 ],
 "metadata": {
  "language_info": {
   "name": "python"
  }
 },
 "nbformat": 4,
 "nbformat_minor": 5
}
